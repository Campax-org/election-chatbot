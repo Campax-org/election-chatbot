{
 "cells": [
  {
   "cell_type": "code",
   "execution_count": 14,
   "metadata": {},
   "outputs": [
    {
     "name": "stdout",
     "output_type": "stream",
     "text": [
      "The autoreload extension is already loaded. To reload it, use:\n",
      "  %reload_ext autoreload\n"
     ]
    }
   ],
   "source": [
    "# Import some useful libraries\n",
    "%matplotlib inline\n",
    "import pandas as pd\n",
    "import urllib\n",
    "import xml.etree.ElementTree as ET\n",
    "from scraper import *\n",
    "import numpy as np\n",
    "%load_ext autoreload\n",
    "%autoreload 2\n",
    "\n",
    "# display all pandas columns\n",
    "pd.set_option('display.max_columns', 100)"
   ]
  },
  {
   "cell_type": "markdown",
   "metadata": {},
   "source": [
    "# Scraping of http://www.parlament.ch\n",
    "\n",
    "First, we need to scrap some information from the website http://parlament.ch. In this notebook, we will scrap different information. These information will be stored in the folder *data* but **not pushed into GitHub repo** for obvious storage reason. \n",
    "\n",
    "### Scraper class\n",
    "\n",
    "The scaping use `Scraper` class defined in `scraper.py` file.\n",
    "\n",
    "* `scraper.get[table_name]` download the whole table from parlament.ch, store it into a csv file, and return a pandas.data_frame\n",
    "\n",
    "Depending of the size of the table, Scraper uses different technics to get them.\n",
    "\n",
    "* `scraper.get['Party']` is small (less than 1'000 lines) and can be get using one only GET request\n",
    "* `scraper.get['Person']` is mid-size (between 1'000 and 30'000 lines) and must be get iteratively using `skip` option, the API only returning max. 1'000 each time.\n",
    "* `scraper.get['Transcript']` is big (more than 30'000 lines). Server API times out for skip > 30'000 so we have to get them precisely by interval of ID's.\n",
    "\n",
    "**After each scraping, Scraper check if the entire table was properly scraped and provides a summary.** To do so, we use `$count` parameter to get the real size of the online table and check if the size correspond the the scraped table.\n",
    "\n",
    "### Metadata\n",
    "URL of the metadata: https://ws.parlament.ch/odata.svc/$metadata\n",
    "\n",
    "Can be parsed using tool like: http://pragmatiqa.com/xodata/\n",
    "\n",
    "### More about the method\n",
    "\n",
    "For the scraping, we are using the library `requests`. The metadata of the website are provided and follow the OData convention. We get the table names using XOData (provided above) and reconstruct the url request. We get the XML using `requests` and we transform the XML into JSON using the library `xmltodict`.\n",
    "\n"
   ]
  },
  {
   "cell_type": "markdown",
   "metadata": {},
   "source": [
    "# Examples"
   ]
  },
  {
   "cell_type": "markdown",
   "metadata": {},
   "source": [
    "## Scrap\n",
    "\n",
    "\n",
    "Tables: Party, Person, Council"
   ]
  },
  {
   "cell_type": "code",
   "execution_count": 2,
   "metadata": {
    "scrolled": true
   },
   "outputs": [
    {
     "name": "stdout",
     "output_type": "stream",
     "text": [
      "GET: https://ws.parlament.ch/odata.svc/Party?$filter=Language%20eq%20'FR'\n",
      "[OK] table Party correctly scraped, df.shape =  83 as expected\n",
      "GET: https://ws.parlament.ch/odata.svc/Person?$top=1000&$filter=Language%20eq%20'FR'&$skip=0\n",
      "GET: https://ws.parlament.ch/odata.svc/Person?$top=1000&$filter=Language%20eq%20'FR'&$skip=1000\n",
      "GET: https://ws.parlament.ch/odata.svc/Person?$top=1000&$filter=Language%20eq%20'FR'&$skip=2000\n",
      "GET: https://ws.parlament.ch/odata.svc/Person?$top=1000&$filter=Language%20eq%20'FR'&$skip=3000\n",
      "GET: https://ws.parlament.ch/odata.svc/Person?$top=1000&$filter=Language%20eq%20'FR'&$skip=4000\n",
      "[OK] table Person correctly scraped, df.shape =  3640 as expected\n",
      "GET: https://ws.parlament.ch/odata.svc/MemberCouncil?$top=1000&$filter=Language%20eq%20'FR'&$skip=0\n",
      "GET: https://ws.parlament.ch/odata.svc/MemberCouncil?$top=1000&$filter=Language%20eq%20'FR'&$skip=1000\n",
      "GET: https://ws.parlament.ch/odata.svc/MemberCouncil?$top=1000&$filter=Language%20eq%20'FR'&$skip=2000\n",
      "GET: https://ws.parlament.ch/odata.svc/MemberCouncil?$top=1000&$filter=Language%20eq%20'FR'&$skip=3000\n",
      "GET: https://ws.parlament.ch/odata.svc/MemberCouncil?$top=1000&$filter=Language%20eq%20'FR'&$skip=4000\n",
      "[OK] table MemberCouncil correctly scraped, df.shape =  3627 as expected\n"
     ]
    }
   ],
   "source": [
    "scrap = Scraper()\n",
    "df_party = scrap.get('Party') # get with simple GET request\n",
    "df_person = scrap.get('Person') # get with iterativ GET request using skip\n",
    "df_member_council = scrap.get('MemberCouncil')"
   ]
  },
  {
   "cell_type": "code",
   "execution_count": 3,
   "metadata": {},
   "outputs": [
    {
     "data": {
      "text/plain": [
       "(83, 8)"
      ]
     },
     "execution_count": 3,
     "metadata": {},
     "output_type": "execute_result"
    }
   ],
   "source": [
    "df_party.shape"
   ]
  },
  {
   "cell_type": "markdown",
   "metadata": {},
   "source": [
    "Count how many occurencies exist in a table\n",
    "(Will be used after to control that we got)"
   ]
  },
  {
   "cell_type": "code",
   "execution_count": 6,
   "metadata": {
    "scrolled": true
   },
   "outputs": [
    {
     "data": {
      "text/plain": [
       "83"
      ]
     },
     "execution_count": 6,
     "metadata": {},
     "output_type": "execute_result"
    }
   ],
   "source": [
    "n_parties = scrap.count('Party')\n",
    "n_parties"
   ]
  },
  {
   "cell_type": "markdown",
   "metadata": {},
   "source": [
    "Let's also get the voting data"
   ]
  },
  {
   "cell_type": "code",
   "execution_count": 19,
   "metadata": {},
   "outputs": [
    {
     "name": "stdout",
     "output_type": "stream",
     "text": [
      "GET: https://ws.parlament.ch/odata.svc/Vote?$filter=Language%20eq%20'FR'\n",
      "GET: https://ws.parlament.ch/odata.svc/Vote?$filter=Language%20eq%20'FR'%20and%20ID%20ge%201%20and%20ID%20lt%201001\n",
      "GET: https://ws.parlament.ch/odata.svc/Vote?$filter=Language%20eq%20'FR'%20and%20ID%20ge%201001%20and%20ID%20lt%202001\n",
      "GET: https://ws.parlament.ch/odata.svc/Vote?$filter=Language%20eq%20'FR'%20and%20ID%20ge%202001%20and%20ID%20lt%203001\n",
      "GET: https://ws.parlament.ch/odata.svc/Vote?$filter=Language%20eq%20'FR'%20and%20ID%20ge%203001%20and%20ID%20lt%204001\n",
      "GET: https://ws.parlament.ch/odata.svc/Vote?$filter=Language%20eq%20'FR'%20and%20ID%20ge%204001%20and%20ID%20lt%205001\n",
      "GET: https://ws.parlament.ch/odata.svc/Vote?$filter=Language%20eq%20'FR'%20and%20ID%20ge%205001%20and%20ID%20lt%206001\n",
      "GET: https://ws.parlament.ch/odata.svc/Vote?$filter=Language%20eq%20'FR'%20and%20ID%20ge%206001%20and%20ID%20lt%207001\n",
      "GET: https://ws.parlament.ch/odata.svc/Vote?$filter=Language%20eq%20'FR'%20and%20ID%20ge%207001%20and%20ID%20lt%208001\n",
      "GET: https://ws.parlament.ch/odata.svc/Vote?$filter=Language%20eq%20'FR'%20and%20ID%20ge%208001%20and%20ID%20lt%209001\n",
      "GET: https://ws.parlament.ch/odata.svc/Vote?$filter=Language%20eq%20'FR'%20and%20ID%20ge%209001%20and%20ID%20lt%2010001\n",
      "GET: https://ws.parlament.ch/odata.svc/Vote?$filter=Language%20eq%20'FR'%20and%20ID%20ge%2010001%20and%20ID%20lt%2011001\n",
      "GET: https://ws.parlament.ch/odata.svc/Vote?$filter=Language%20eq%20'FR'%20and%20ID%20ge%2011001%20and%20ID%20lt%2012001\n",
      "GET: https://ws.parlament.ch/odata.svc/Vote?$filter=Language%20eq%20'FR'%20and%20ID%20ge%2012001%20and%20ID%20lt%2013001\n",
      "GET: https://ws.parlament.ch/odata.svc/Vote?$filter=Language%20eq%20'FR'%20and%20ID%20ge%2013001%20and%20ID%20lt%2014001\n",
      "GET: https://ws.parlament.ch/odata.svc/Vote?$filter=Language%20eq%20'FR'%20and%20ID%20ge%2014001%20and%20ID%20lt%2015001\n",
      "GET: https://ws.parlament.ch/odata.svc/Vote?$filter=Language%20eq%20'FR'%20and%20ID%20ge%2015001%20and%20ID%20lt%2016001\n",
      "GET: https://ws.parlament.ch/odata.svc/Vote?$filter=Language%20eq%20'FR'%20and%20ID%20ge%2016001%20and%20ID%20lt%2017001\n",
      "GET: https://ws.parlament.ch/odata.svc/Vote?$filter=Language%20eq%20'FR'%20and%20ID%20ge%2017001%20and%20ID%20lt%2018001\n",
      "GET: https://ws.parlament.ch/odata.svc/Vote?$filter=Language%20eq%20'FR'%20and%20ID%20ge%2018001%20and%20ID%20lt%2019001\n",
      "GET: https://ws.parlament.ch/odata.svc/Vote?$filter=Language%20eq%20'FR'%20and%20ID%20ge%2019001%20and%20ID%20lt%2020001\n",
      "GET: https://ws.parlament.ch/odata.svc/Vote?$filter=Language%20eq%20'FR'%20and%20ID%20ge%2020001%20and%20ID%20lt%2021001\n",
      "GET: https://ws.parlament.ch/odata.svc/Vote?$filter=Language%20eq%20'FR'%20and%20ID%20ge%2021001%20and%20ID%20lt%2022001\n",
      "GET: https://ws.parlament.ch/odata.svc/Vote?$filter=Language%20eq%20'FR'%20and%20ID%20ge%2022001%20and%20ID%20lt%2023001\n",
      "GET: https://ws.parlament.ch/odata.svc/Vote?$filter=Language%20eq%20'FR'%20and%20ID%20ge%2023001%20and%20ID%20lt%2024001\n",
      "GET: https://ws.parlament.ch/odata.svc/Vote?$filter=Language%20eq%20'FR'%20and%20ID%20ge%2024001%20and%20ID%20lt%2025001\n",
      "GET: https://ws.parlament.ch/odata.svc/Vote?$filter=Language%20eq%20'FR'%20and%20ID%20ge%2025001%20and%20ID%20lt%2026001\n",
      "GET: https://ws.parlament.ch/odata.svc/Vote?$filter=Language%20eq%20'FR'%20and%20ID%20ge%2026001%20and%20ID%20lt%2027001\n",
      "GET: https://ws.parlament.ch/odata.svc/Vote?$filter=Language%20eq%20'FR'%20and%20ID%20ge%2027001%20and%20ID%20lt%2028001\n",
      "GET: https://ws.parlament.ch/odata.svc/Vote?$filter=Language%20eq%20'FR'%20and%20ID%20ge%2028001%20and%20ID%20lt%2029001\n",
      "GET: https://ws.parlament.ch/odata.svc/Vote?$filter=Language%20eq%20'FR'%20and%20ID%20ge%2029001%20and%20ID%20lt%2030001\n",
      "[ERROR] in scraping table Vote expected size of 19080 but is 18483\n"
     ]
    }
   ],
   "source": [
    "scrap = Scraper(time_out=100) # increase time_out\n",
    "df_vote = scrap.get('Vote')"
   ]
  },
  {
   "cell_type": "markdown",
   "metadata": {},
   "source": [
    "## Scrap big table"
   ]
  },
  {
   "cell_type": "code",
   "execution_count": 7,
   "metadata": {
    "scrolled": true
   },
   "outputs": [
    {
     "name": "stdout",
     "output_type": "stream",
     "text": [
      "GET: https://ws.parlament.ch/odata.svc/Transcript?$filter=Language%20eq%20'FR'\n",
      "GET: https://ws.parlament.ch/odata.svc/Transcript?$filter=Language%20eq%20'FR'%20and%20ID%20ge%201%20and%20ID%20lt%201001\n",
      "GET: https://ws.parlament.ch/odata.svc/Transcript?$filter=Language%20eq%20'FR'%20and%20ID%20ge%201001%20and%20ID%20lt%202001\n",
      "GET: https://ws.parlament.ch/odata.svc/Transcript?$filter=Language%20eq%20'FR'%20and%20ID%20ge%202001%20and%20ID%20lt%203001\n",
      "GET: https://ws.parlament.ch/odata.svc/Transcript?$filter=Language%20eq%20'FR'%20and%20ID%20ge%203001%20and%20ID%20lt%204001\n",
      "GET: https://ws.parlament.ch/odata.svc/Transcript?$filter=Language%20eq%20'FR'%20and%20ID%20ge%204001%20and%20ID%20lt%205001\n",
      "GET: https://ws.parlament.ch/odata.svc/Transcript?$filter=Language%20eq%20'FR'%20and%20ID%20ge%205001%20and%20ID%20lt%206001\n",
      "GET: https://ws.parlament.ch/odata.svc/Transcript?$filter=Language%20eq%20'FR'%20and%20ID%20ge%206001%20and%20ID%20lt%207001\n",
      "GET: https://ws.parlament.ch/odata.svc/Transcript?$filter=Language%20eq%20'FR'%20and%20ID%20ge%207001%20and%20ID%20lt%208001\n",
      "GET: https://ws.parlament.ch/odata.svc/Transcript?$filter=Language%20eq%20'FR'%20and%20ID%20ge%208001%20and%20ID%20lt%209001\n",
      "GET: https://ws.parlament.ch/odata.svc/Transcript?$filter=Language%20eq%20'FR'%20and%20ID%20ge%209001%20and%20ID%20lt%2010001\n",
      "GET: https://ws.parlament.ch/odata.svc/Transcript?$filter=Language%20eq%20'FR'%20and%20ID%20ge%2010001%20and%20ID%20lt%2011001\n",
      "GET: https://ws.parlament.ch/odata.svc/Transcript?$filter=Language%20eq%20'FR'%20and%20ID%20ge%2011001%20and%20ID%20lt%2012001\n",
      "GET: https://ws.parlament.ch/odata.svc/Transcript?$filter=Language%20eq%20'FR'%20and%20ID%20ge%2012001%20and%20ID%20lt%2013001\n",
      "GET: https://ws.parlament.ch/odata.svc/Transcript?$filter=Language%20eq%20'FR'%20and%20ID%20ge%2013001%20and%20ID%20lt%2014001\n",
      "GET: https://ws.parlament.ch/odata.svc/Transcript?$filter=Language%20eq%20'FR'%20and%20ID%20ge%2014001%20and%20ID%20lt%2015001\n",
      "GET: https://ws.parlament.ch/odata.svc/Transcript?$filter=Language%20eq%20'FR'%20and%20ID%20ge%2015001%20and%20ID%20lt%2016001\n",
      "GET: https://ws.parlament.ch/odata.svc/Transcript?$filter=Language%20eq%20'FR'%20and%20ID%20ge%2016001%20and%20ID%20lt%2017001\n",
      "GET: https://ws.parlament.ch/odata.svc/Transcript?$filter=Language%20eq%20'FR'%20and%20ID%20ge%2017001%20and%20ID%20lt%2018001\n",
      "GET: https://ws.parlament.ch/odata.svc/Transcript?$filter=Language%20eq%20'FR'%20and%20ID%20ge%2018001%20and%20ID%20lt%2019001\n",
      "GET: https://ws.parlament.ch/odata.svc/Transcript?$filter=Language%20eq%20'FR'%20and%20ID%20ge%2019001%20and%20ID%20lt%2020001\n",
      "GET: https://ws.parlament.ch/odata.svc/Transcript?$filter=Language%20eq%20'FR'%20and%20ID%20ge%2020001%20and%20ID%20lt%2021001\n",
      "GET: https://ws.parlament.ch/odata.svc/Transcript?$filter=Language%20eq%20'FR'%20and%20ID%20ge%2021001%20and%20ID%20lt%2022001\n",
      "GET: https://ws.parlament.ch/odata.svc/Transcript?$filter=Language%20eq%20'FR'%20and%20ID%20ge%2022001%20and%20ID%20lt%2023001\n",
      "GET: https://ws.parlament.ch/odata.svc/Transcript?$filter=Language%20eq%20'FR'%20and%20ID%20ge%2023001%20and%20ID%20lt%2024001\n",
      "GET: https://ws.parlament.ch/odata.svc/Transcript?$filter=Language%20eq%20'FR'%20and%20ID%20ge%2024001%20and%20ID%20lt%2025001\n",
      "GET: https://ws.parlament.ch/odata.svc/Transcript?$filter=Language%20eq%20'FR'%20and%20ID%20ge%2025001%20and%20ID%20lt%2026001\n",
      "GET: https://ws.parlament.ch/odata.svc/Transcript?$filter=Language%20eq%20'FR'%20and%20ID%20ge%2026001%20and%20ID%20lt%2027001\n",
      "GET: https://ws.parlament.ch/odata.svc/Transcript?$filter=Language%20eq%20'FR'%20and%20ID%20ge%2027001%20and%20ID%20lt%2028001\n",
      "GET: https://ws.parlament.ch/odata.svc/Transcript?$filter=Language%20eq%20'FR'%20and%20ID%20ge%2028001%20and%20ID%20lt%2029001\n",
      "GET: https://ws.parlament.ch/odata.svc/Transcript?$filter=Language%20eq%20'FR'%20and%20ID%20ge%2029001%20and%20ID%20lt%2030001\n",
      "GET: https://ws.parlament.ch/odata.svc/Transcript?$filter=Language%20eq%20'FR'%20and%20ID%20ge%2030001%20and%20ID%20lt%2031001\n",
      "GET: https://ws.parlament.ch/odata.svc/Transcript?$filter=Language%20eq%20'FR'%20and%20ID%20ge%2031001%20and%20ID%20lt%2032001\n",
      "GET: https://ws.parlament.ch/odata.svc/Transcript?$filter=Language%20eq%20'FR'%20and%20ID%20ge%2032001%20and%20ID%20lt%2033001\n",
      "GET: https://ws.parlament.ch/odata.svc/Transcript?$filter=Language%20eq%20'FR'%20and%20ID%20ge%2033001%20and%20ID%20lt%2034001\n",
      "GET: https://ws.parlament.ch/odata.svc/Transcript?$filter=Language%20eq%20'FR'%20and%20ID%20ge%2034001%20and%20ID%20lt%2035001\n",
      "GET: https://ws.parlament.ch/odata.svc/Transcript?$filter=Language%20eq%20'FR'%20and%20ID%20ge%2035001%20and%20ID%20lt%2036001\n",
      "GET: https://ws.parlament.ch/odata.svc/Transcript?$filter=Language%20eq%20'FR'%20and%20ID%20ge%2036001%20and%20ID%20lt%2037001\n",
      "GET: https://ws.parlament.ch/odata.svc/Transcript?$filter=Language%20eq%20'FR'%20and%20ID%20ge%2037001%20and%20ID%20lt%2038001\n",
      "GET: https://ws.parlament.ch/odata.svc/Transcript?$filter=Language%20eq%20'FR'%20and%20ID%20ge%2038001%20and%20ID%20lt%2039001\n",
      "GET: https://ws.parlament.ch/odata.svc/Transcript?$filter=Language%20eq%20'FR'%20and%20ID%20ge%2039001%20and%20ID%20lt%2040001\n",
      "GET: https://ws.parlament.ch/odata.svc/Transcript?$filter=Language%20eq%20'FR'%20and%20ID%20ge%2040001%20and%20ID%20lt%2041001\n",
      "GET: https://ws.parlament.ch/odata.svc/Transcript?$filter=Language%20eq%20'FR'%20and%20ID%20ge%2041001%20and%20ID%20lt%2042001\n",
      "GET: https://ws.parlament.ch/odata.svc/Transcript?$filter=Language%20eq%20'FR'%20and%20ID%20ge%2042001%20and%20ID%20lt%2043001\n",
      "GET: https://ws.parlament.ch/odata.svc/Transcript?$filter=Language%20eq%20'FR'%20and%20ID%20ge%2043001%20and%20ID%20lt%2044001\n",
      "GET: https://ws.parlament.ch/odata.svc/Transcript?$filter=Language%20eq%20'FR'%20and%20ID%20ge%2044001%20and%20ID%20lt%2045001\n",
      "GET: https://ws.parlament.ch/odata.svc/Transcript?$filter=Language%20eq%20'FR'%20and%20ID%20ge%2045001%20and%20ID%20lt%2046001\n",
      "GET: https://ws.parlament.ch/odata.svc/Transcript?$filter=Language%20eq%20'FR'%20and%20ID%20ge%2046001%20and%20ID%20lt%2047001\n",
      "GET: https://ws.parlament.ch/odata.svc/Transcript?$filter=Language%20eq%20'FR'%20and%20ID%20ge%2047001%20and%20ID%20lt%2048001\n",
      "GET: https://ws.parlament.ch/odata.svc/Transcript?$filter=Language%20eq%20'FR'%20and%20ID%20ge%2048001%20and%20ID%20lt%2049001\n",
      "GET: https://ws.parlament.ch/odata.svc/Transcript?$filter=Language%20eq%20'FR'%20and%20ID%20ge%2049001%20and%20ID%20lt%2050001\n",
      "GET: https://ws.parlament.ch/odata.svc/Transcript?$filter=Language%20eq%20'FR'%20and%20ID%20ge%2050001%20and%20ID%20lt%2051001\n",
      "GET: https://ws.parlament.ch/odata.svc/Transcript?$filter=Language%20eq%20'FR'%20and%20ID%20ge%2051001%20and%20ID%20lt%2052001\n",
      "GET: https://ws.parlament.ch/odata.svc/Transcript?$filter=Language%20eq%20'FR'%20and%20ID%20ge%2052001%20and%20ID%20lt%2053001\n",
      "GET: https://ws.parlament.ch/odata.svc/Transcript?$filter=Language%20eq%20'FR'%20and%20ID%20ge%2053001%20and%20ID%20lt%2054001\n",
      "GET: https://ws.parlament.ch/odata.svc/Transcript?$filter=Language%20eq%20'FR'%20and%20ID%20ge%2054001%20and%20ID%20lt%2055001\n",
      "GET: https://ws.parlament.ch/odata.svc/Transcript?$filter=Language%20eq%20'FR'%20and%20ID%20ge%2055001%20and%20ID%20lt%2056001\n",
      "GET: https://ws.parlament.ch/odata.svc/Transcript?$filter=Language%20eq%20'FR'%20and%20ID%20ge%2056001%20and%20ID%20lt%2057001\n",
      "GET: https://ws.parlament.ch/odata.svc/Transcript?$filter=Language%20eq%20'FR'%20and%20ID%20ge%2057001%20and%20ID%20lt%2058001\n",
      "GET: https://ws.parlament.ch/odata.svc/Transcript?$filter=Language%20eq%20'FR'%20and%20ID%20ge%2058001%20and%20ID%20lt%2059001\n",
      "GET: https://ws.parlament.ch/odata.svc/Transcript?$filter=Language%20eq%20'FR'%20and%20ID%20ge%2059001%20and%20ID%20lt%2060001\n",
      "GET: https://ws.parlament.ch/odata.svc/Transcript?$filter=Language%20eq%20'FR'%20and%20ID%20ge%2060001%20and%20ID%20lt%2061001\n",
      "GET: https://ws.parlament.ch/odata.svc/Transcript?$filter=Language%20eq%20'FR'%20and%20ID%20ge%2061001%20and%20ID%20lt%2062001\n",
      "GET: https://ws.parlament.ch/odata.svc/Transcript?$filter=Language%20eq%20'FR'%20and%20ID%20ge%2062001%20and%20ID%20lt%2063001\n",
      "GET: https://ws.parlament.ch/odata.svc/Transcript?$filter=Language%20eq%20'FR'%20and%20ID%20ge%2063001%20and%20ID%20lt%2064001\n",
      "GET: https://ws.parlament.ch/odata.svc/Transcript?$filter=Language%20eq%20'FR'%20and%20ID%20ge%2064001%20and%20ID%20lt%2065001\n"
     ]
    },
    {
     "name": "stdout",
     "output_type": "stream",
     "text": [
      "GET: https://ws.parlament.ch/odata.svc/Transcript?$filter=Language%20eq%20'FR'%20and%20ID%20ge%2065001%20and%20ID%20lt%2066001\n",
      "GET: https://ws.parlament.ch/odata.svc/Transcript?$filter=Language%20eq%20'FR'%20and%20ID%20ge%2066001%20and%20ID%20lt%2067001\n",
      "GET: https://ws.parlament.ch/odata.svc/Transcript?$filter=Language%20eq%20'FR'%20and%20ID%20ge%2067001%20and%20ID%20lt%2068001\n",
      "GET: https://ws.parlament.ch/odata.svc/Transcript?$filter=Language%20eq%20'FR'%20and%20ID%20ge%2068001%20and%20ID%20lt%2069001\n",
      "GET: https://ws.parlament.ch/odata.svc/Transcript?$filter=Language%20eq%20'FR'%20and%20ID%20ge%2069001%20and%20ID%20lt%2070001\n",
      "GET: https://ws.parlament.ch/odata.svc/Transcript?$filter=Language%20eq%20'FR'%20and%20ID%20ge%2070001%20and%20ID%20lt%2071001\n",
      "GET: https://ws.parlament.ch/odata.svc/Transcript?$filter=Language%20eq%20'FR'%20and%20ID%20ge%2071001%20and%20ID%20lt%2072001\n",
      "GET: https://ws.parlament.ch/odata.svc/Transcript?$filter=Language%20eq%20'FR'%20and%20ID%20ge%2072001%20and%20ID%20lt%2073001\n",
      "GET: https://ws.parlament.ch/odata.svc/Transcript?$filter=Language%20eq%20'FR'%20and%20ID%20ge%2073001%20and%20ID%20lt%2074001\n",
      "GET: https://ws.parlament.ch/odata.svc/Transcript?$filter=Language%20eq%20'FR'%20and%20ID%20ge%2074001%20and%20ID%20lt%2075001\n",
      "GET: https://ws.parlament.ch/odata.svc/Transcript?$filter=Language%20eq%20'FR'%20and%20ID%20ge%2075001%20and%20ID%20lt%2076001\n",
      "GET: https://ws.parlament.ch/odata.svc/Transcript?$filter=Language%20eq%20'FR'%20and%20ID%20ge%2076001%20and%20ID%20lt%2077001\n",
      "GET: https://ws.parlament.ch/odata.svc/Transcript?$filter=Language%20eq%20'FR'%20and%20ID%20ge%2077001%20and%20ID%20lt%2078001\n",
      "GET: https://ws.parlament.ch/odata.svc/Transcript?$filter=Language%20eq%20'FR'%20and%20ID%20ge%2078001%20and%20ID%20lt%2079001\n",
      "GET: https://ws.parlament.ch/odata.svc/Transcript?$filter=Language%20eq%20'FR'%20and%20ID%20ge%2079001%20and%20ID%20lt%2080001\n",
      "GET: https://ws.parlament.ch/odata.svc/Transcript?$filter=Language%20eq%20'FR'%20and%20ID%20ge%2080001%20and%20ID%20lt%2081001\n",
      "GET: https://ws.parlament.ch/odata.svc/Transcript?$filter=Language%20eq%20'FR'%20and%20ID%20ge%2081001%20and%20ID%20lt%2082001\n",
      "GET: https://ws.parlament.ch/odata.svc/Transcript?$filter=Language%20eq%20'FR'%20and%20ID%20ge%2082001%20and%20ID%20lt%2083001\n",
      "GET: https://ws.parlament.ch/odata.svc/Transcript?$filter=Language%20eq%20'FR'%20and%20ID%20ge%2083001%20and%20ID%20lt%2084001\n",
      "GET: https://ws.parlament.ch/odata.svc/Transcript?$filter=Language%20eq%20'FR'%20and%20ID%20ge%2084001%20and%20ID%20lt%2085001\n",
      "GET: https://ws.parlament.ch/odata.svc/Transcript?$filter=Language%20eq%20'FR'%20and%20ID%20ge%2085001%20and%20ID%20lt%2086001\n",
      "GET: https://ws.parlament.ch/odata.svc/Transcript?$filter=Language%20eq%20'FR'%20and%20ID%20ge%2086001%20and%20ID%20lt%2087001\n",
      "GET: https://ws.parlament.ch/odata.svc/Transcript?$filter=Language%20eq%20'FR'%20and%20ID%20ge%2087001%20and%20ID%20lt%2088001\n",
      "GET: https://ws.parlament.ch/odata.svc/Transcript?$filter=Language%20eq%20'FR'%20and%20ID%20ge%2088001%20and%20ID%20lt%2089001\n",
      "GET: https://ws.parlament.ch/odata.svc/Transcript?$filter=Language%20eq%20'FR'%20and%20ID%20ge%2089001%20and%20ID%20lt%2090001\n",
      "GET: https://ws.parlament.ch/odata.svc/Transcript?$filter=Language%20eq%20'FR'%20and%20ID%20ge%2090001%20and%20ID%20lt%2091001\n",
      "GET: https://ws.parlament.ch/odata.svc/Transcript?$filter=Language%20eq%20'FR'%20and%20ID%20ge%2091001%20and%20ID%20lt%2092001\n",
      "GET: https://ws.parlament.ch/odata.svc/Transcript?$filter=Language%20eq%20'FR'%20and%20ID%20ge%2092001%20and%20ID%20lt%2093001\n",
      "GET: https://ws.parlament.ch/odata.svc/Transcript?$filter=Language%20eq%20'FR'%20and%20ID%20ge%2093001%20and%20ID%20lt%2094001\n",
      "GET: https://ws.parlament.ch/odata.svc/Transcript?$filter=Language%20eq%20'FR'%20and%20ID%20ge%2094001%20and%20ID%20lt%2095001\n",
      "GET: https://ws.parlament.ch/odata.svc/Transcript?$filter=Language%20eq%20'FR'%20and%20ID%20ge%2095001%20and%20ID%20lt%2096001\n",
      "GET: https://ws.parlament.ch/odata.svc/Transcript?$filter=Language%20eq%20'FR'%20and%20ID%20ge%2096001%20and%20ID%20lt%2097001\n",
      "GET: https://ws.parlament.ch/odata.svc/Transcript?$filter=Language%20eq%20'FR'%20and%20ID%20ge%2097001%20and%20ID%20lt%2098001\n",
      "GET: https://ws.parlament.ch/odata.svc/Transcript?$filter=Language%20eq%20'FR'%20and%20ID%20ge%2098001%20and%20ID%20lt%2099001\n",
      "GET: https://ws.parlament.ch/odata.svc/Transcript?$filter=Language%20eq%20'FR'%20and%20ID%20ge%2099001%20and%20ID%20lt%20100001\n",
      "GET: https://ws.parlament.ch/odata.svc/Transcript?$filter=Language%20eq%20'FR'%20and%20ID%20ge%20100001%20and%20ID%20lt%20101001\n",
      "GET: https://ws.parlament.ch/odata.svc/Transcript?$filter=Language%20eq%20'FR'%20and%20ID%20ge%20101001%20and%20ID%20lt%20102001\n",
      "GET: https://ws.parlament.ch/odata.svc/Transcript?$filter=Language%20eq%20'FR'%20and%20ID%20ge%20102001%20and%20ID%20lt%20103001\n",
      "GET: https://ws.parlament.ch/odata.svc/Transcript?$filter=Language%20eq%20'FR'%20and%20ID%20ge%20103001%20and%20ID%20lt%20104001\n",
      "GET: https://ws.parlament.ch/odata.svc/Transcript?$filter=Language%20eq%20'FR'%20and%20ID%20ge%20104001%20and%20ID%20lt%20105001\n",
      "GET: https://ws.parlament.ch/odata.svc/Transcript?$filter=Language%20eq%20'FR'%20and%20ID%20ge%20105001%20and%20ID%20lt%20106001\n",
      "GET: https://ws.parlament.ch/odata.svc/Transcript?$filter=Language%20eq%20'FR'%20and%20ID%20ge%20106001%20and%20ID%20lt%20107001\n",
      "GET: https://ws.parlament.ch/odata.svc/Transcript?$filter=Language%20eq%20'FR'%20and%20ID%20ge%20107001%20and%20ID%20lt%20108001\n",
      "GET: https://ws.parlament.ch/odata.svc/Transcript?$filter=Language%20eq%20'FR'%20and%20ID%20ge%20108001%20and%20ID%20lt%20109001\n",
      "GET: https://ws.parlament.ch/odata.svc/Transcript?$filter=Language%20eq%20'FR'%20and%20ID%20ge%20109001%20and%20ID%20lt%20110001\n",
      "GET: https://ws.parlament.ch/odata.svc/Transcript?$filter=Language%20eq%20'FR'%20and%20ID%20ge%20110001%20and%20ID%20lt%20111001\n",
      "GET: https://ws.parlament.ch/odata.svc/Transcript?$filter=Language%20eq%20'FR'%20and%20ID%20ge%20111001%20and%20ID%20lt%20112001\n",
      "GET: https://ws.parlament.ch/odata.svc/Transcript?$filter=Language%20eq%20'FR'%20and%20ID%20ge%20112001%20and%20ID%20lt%20113001\n",
      "GET: https://ws.parlament.ch/odata.svc/Transcript?$filter=Language%20eq%20'FR'%20and%20ID%20ge%20113001%20and%20ID%20lt%20114001\n",
      "GET: https://ws.parlament.ch/odata.svc/Transcript?$filter=Language%20eq%20'FR'%20and%20ID%20ge%20114001%20and%20ID%20lt%20115001\n",
      "GET: https://ws.parlament.ch/odata.svc/Transcript?$filter=Language%20eq%20'FR'%20and%20ID%20ge%20115001%20and%20ID%20lt%20116001\n",
      "GET: https://ws.parlament.ch/odata.svc/Transcript?$filter=Language%20eq%20'FR'%20and%20ID%20ge%20116001%20and%20ID%20lt%20117001\n",
      "GET: https://ws.parlament.ch/odata.svc/Transcript?$filter=Language%20eq%20'FR'%20and%20ID%20ge%20117001%20and%20ID%20lt%20118001\n",
      "GET: https://ws.parlament.ch/odata.svc/Transcript?$filter=Language%20eq%20'FR'%20and%20ID%20ge%20118001%20and%20ID%20lt%20119001\n",
      "GET: https://ws.parlament.ch/odata.svc/Transcript?$filter=Language%20eq%20'FR'%20and%20ID%20ge%20119001%20and%20ID%20lt%20120001\n",
      "GET: https://ws.parlament.ch/odata.svc/Transcript?$filter=Language%20eq%20'FR'%20and%20ID%20ge%20120001%20and%20ID%20lt%20121001\n",
      "GET: https://ws.parlament.ch/odata.svc/Transcript?$filter=Language%20eq%20'FR'%20and%20ID%20ge%20121001%20and%20ID%20lt%20122001\n",
      "GET: https://ws.parlament.ch/odata.svc/Transcript?$filter=Language%20eq%20'FR'%20and%20ID%20ge%20122001%20and%20ID%20lt%20123001\n",
      "GET: https://ws.parlament.ch/odata.svc/Transcript?$filter=Language%20eq%20'FR'%20and%20ID%20ge%20123001%20and%20ID%20lt%20124001\n",
      "GET: https://ws.parlament.ch/odata.svc/Transcript?$filter=Language%20eq%20'FR'%20and%20ID%20ge%20124001%20and%20ID%20lt%20125001\n",
      "GET: https://ws.parlament.ch/odata.svc/Transcript?$filter=Language%20eq%20'FR'%20and%20ID%20ge%20125001%20and%20ID%20lt%20126001\n",
      "GET: https://ws.parlament.ch/odata.svc/Transcript?$filter=Language%20eq%20'FR'%20and%20ID%20ge%20126001%20and%20ID%20lt%20127001\n",
      "GET: https://ws.parlament.ch/odata.svc/Transcript?$filter=Language%20eq%20'FR'%20and%20ID%20ge%20127001%20and%20ID%20lt%20128001\n",
      "GET: https://ws.parlament.ch/odata.svc/Transcript?$filter=Language%20eq%20'FR'%20and%20ID%20ge%20128001%20and%20ID%20lt%20129001\n",
      "GET: https://ws.parlament.ch/odata.svc/Transcript?$filter=Language%20eq%20'FR'%20and%20ID%20ge%20129001%20and%20ID%20lt%20130001\n"
     ]
    },
    {
     "name": "stdout",
     "output_type": "stream",
     "text": [
      "GET: https://ws.parlament.ch/odata.svc/Transcript?$filter=Language%20eq%20'FR'%20and%20ID%20ge%20130001%20and%20ID%20lt%20131001\n",
      "GET: https://ws.parlament.ch/odata.svc/Transcript?$filter=Language%20eq%20'FR'%20and%20ID%20ge%20131001%20and%20ID%20lt%20132001\n",
      "GET: https://ws.parlament.ch/odata.svc/Transcript?$filter=Language%20eq%20'FR'%20and%20ID%20ge%20132001%20and%20ID%20lt%20133001\n",
      "GET: https://ws.parlament.ch/odata.svc/Transcript?$filter=Language%20eq%20'FR'%20and%20ID%20ge%20133001%20and%20ID%20lt%20134001\n",
      "GET: https://ws.parlament.ch/odata.svc/Transcript?$filter=Language%20eq%20'FR'%20and%20ID%20ge%20134001%20and%20ID%20lt%20135001\n",
      "GET: https://ws.parlament.ch/odata.svc/Transcript?$filter=Language%20eq%20'FR'%20and%20ID%20ge%20135001%20and%20ID%20lt%20136001\n",
      "GET: https://ws.parlament.ch/odata.svc/Transcript?$filter=Language%20eq%20'FR'%20and%20ID%20ge%20136001%20and%20ID%20lt%20137001\n",
      "GET: https://ws.parlament.ch/odata.svc/Transcript?$filter=Language%20eq%20'FR'%20and%20ID%20ge%20137001%20and%20ID%20lt%20138001\n",
      "GET: https://ws.parlament.ch/odata.svc/Transcript?$filter=Language%20eq%20'FR'%20and%20ID%20ge%20138001%20and%20ID%20lt%20139001\n",
      "GET: https://ws.parlament.ch/odata.svc/Transcript?$filter=Language%20eq%20'FR'%20and%20ID%20ge%20139001%20and%20ID%20lt%20140001\n",
      "GET: https://ws.parlament.ch/odata.svc/Transcript?$filter=Language%20eq%20'FR'%20and%20ID%20ge%20140001%20and%20ID%20lt%20141001\n",
      "GET: https://ws.parlament.ch/odata.svc/Transcript?$filter=Language%20eq%20'FR'%20and%20ID%20ge%20141001%20and%20ID%20lt%20142001\n",
      "GET: https://ws.parlament.ch/odata.svc/Transcript?$filter=Language%20eq%20'FR'%20and%20ID%20ge%20142001%20and%20ID%20lt%20143001\n",
      "GET: https://ws.parlament.ch/odata.svc/Transcript?$filter=Language%20eq%20'FR'%20and%20ID%20ge%20143001%20and%20ID%20lt%20144001\n",
      "GET: https://ws.parlament.ch/odata.svc/Transcript?$filter=Language%20eq%20'FR'%20and%20ID%20ge%20144001%20and%20ID%20lt%20145001\n",
      "GET: https://ws.parlament.ch/odata.svc/Transcript?$filter=Language%20eq%20'FR'%20and%20ID%20ge%20145001%20and%20ID%20lt%20146001\n",
      "GET: https://ws.parlament.ch/odata.svc/Transcript?$filter=Language%20eq%20'FR'%20and%20ID%20ge%20146001%20and%20ID%20lt%20147001\n",
      "GET: https://ws.parlament.ch/odata.svc/Transcript?$filter=Language%20eq%20'FR'%20and%20ID%20ge%20147001%20and%20ID%20lt%20148001\n",
      "GET: https://ws.parlament.ch/odata.svc/Transcript?$filter=Language%20eq%20'FR'%20and%20ID%20ge%20148001%20and%20ID%20lt%20149001\n",
      "GET: https://ws.parlament.ch/odata.svc/Transcript?$filter=Language%20eq%20'FR'%20and%20ID%20ge%20149001%20and%20ID%20lt%20150001\n",
      "GET: https://ws.parlament.ch/odata.svc/Transcript?$filter=Language%20eq%20'FR'%20and%20ID%20ge%20150001%20and%20ID%20lt%20151001\n",
      "GET: https://ws.parlament.ch/odata.svc/Transcript?$filter=Language%20eq%20'FR'%20and%20ID%20ge%20151001%20and%20ID%20lt%20152001\n",
      "GET: https://ws.parlament.ch/odata.svc/Transcript?$filter=Language%20eq%20'FR'%20and%20ID%20ge%20152001%20and%20ID%20lt%20153001\n",
      "GET: https://ws.parlament.ch/odata.svc/Transcript?$filter=Language%20eq%20'FR'%20and%20ID%20ge%20153001%20and%20ID%20lt%20154001\n",
      "GET: https://ws.parlament.ch/odata.svc/Transcript?$filter=Language%20eq%20'FR'%20and%20ID%20ge%20154001%20and%20ID%20lt%20155001\n",
      "GET: https://ws.parlament.ch/odata.svc/Transcript?$filter=Language%20eq%20'FR'%20and%20ID%20ge%20155001%20and%20ID%20lt%20156001\n",
      "GET: https://ws.parlament.ch/odata.svc/Transcript?$filter=Language%20eq%20'FR'%20and%20ID%20ge%20156001%20and%20ID%20lt%20157001\n",
      "GET: https://ws.parlament.ch/odata.svc/Transcript?$filter=Language%20eq%20'FR'%20and%20ID%20ge%20157001%20and%20ID%20lt%20158001\n",
      "GET: https://ws.parlament.ch/odata.svc/Transcript?$filter=Language%20eq%20'FR'%20and%20ID%20ge%20158001%20and%20ID%20lt%20159001\n",
      "GET: https://ws.parlament.ch/odata.svc/Transcript?$filter=Language%20eq%20'FR'%20and%20ID%20ge%20159001%20and%20ID%20lt%20160001\n",
      "GET: https://ws.parlament.ch/odata.svc/Transcript?$filter=Language%20eq%20'FR'%20and%20ID%20ge%20160001%20and%20ID%20lt%20161001\n",
      "GET: https://ws.parlament.ch/odata.svc/Transcript?$filter=Language%20eq%20'FR'%20and%20ID%20ge%20161001%20and%20ID%20lt%20162001\n",
      "GET: https://ws.parlament.ch/odata.svc/Transcript?$filter=Language%20eq%20'FR'%20and%20ID%20ge%20162001%20and%20ID%20lt%20163001\n",
      "GET: https://ws.parlament.ch/odata.svc/Transcript?$filter=Language%20eq%20'FR'%20and%20ID%20ge%20163001%20and%20ID%20lt%20164001\n",
      "GET: https://ws.parlament.ch/odata.svc/Transcript?$filter=Language%20eq%20'FR'%20and%20ID%20ge%20164001%20and%20ID%20lt%20165001\n",
      "GET: https://ws.parlament.ch/odata.svc/Transcript?$filter=Language%20eq%20'FR'%20and%20ID%20ge%20165001%20and%20ID%20lt%20166001\n",
      "GET: https://ws.parlament.ch/odata.svc/Transcript?$filter=Language%20eq%20'FR'%20and%20ID%20ge%20166001%20and%20ID%20lt%20167001\n",
      "GET: https://ws.parlament.ch/odata.svc/Transcript?$filter=Language%20eq%20'FR'%20and%20ID%20ge%20167001%20and%20ID%20lt%20168001\n",
      "GET: https://ws.parlament.ch/odata.svc/Transcript?$filter=Language%20eq%20'FR'%20and%20ID%20ge%20168001%20and%20ID%20lt%20169001\n",
      "GET: https://ws.parlament.ch/odata.svc/Transcript?$filter=Language%20eq%20'FR'%20and%20ID%20ge%20169001%20and%20ID%20lt%20170001\n",
      "GET: https://ws.parlament.ch/odata.svc/Transcript?$filter=Language%20eq%20'FR'%20and%20ID%20ge%20170001%20and%20ID%20lt%20171001\n",
      "GET: https://ws.parlament.ch/odata.svc/Transcript?$filter=Language%20eq%20'FR'%20and%20ID%20ge%20171001%20and%20ID%20lt%20172001\n",
      "GET: https://ws.parlament.ch/odata.svc/Transcript?$filter=Language%20eq%20'FR'%20and%20ID%20ge%20172001%20and%20ID%20lt%20173001\n",
      "GET: https://ws.parlament.ch/odata.svc/Transcript?$filter=Language%20eq%20'FR'%20and%20ID%20ge%20173001%20and%20ID%20lt%20174001\n",
      "GET: https://ws.parlament.ch/odata.svc/Transcript?$filter=Language%20eq%20'FR'%20and%20ID%20ge%20174001%20and%20ID%20lt%20175001\n",
      "GET: https://ws.parlament.ch/odata.svc/Transcript?$filter=Language%20eq%20'FR'%20and%20ID%20ge%20175001%20and%20ID%20lt%20176001\n",
      "GET: https://ws.parlament.ch/odata.svc/Transcript?$filter=Language%20eq%20'FR'%20and%20ID%20ge%20176001%20and%20ID%20lt%20177001\n",
      "GET: https://ws.parlament.ch/odata.svc/Transcript?$filter=Language%20eq%20'FR'%20and%20ID%20ge%20177001%20and%20ID%20lt%20178001\n",
      "GET: https://ws.parlament.ch/odata.svc/Transcript?$filter=Language%20eq%20'FR'%20and%20ID%20ge%20178001%20and%20ID%20lt%20179001\n",
      "GET: https://ws.parlament.ch/odata.svc/Transcript?$filter=Language%20eq%20'FR'%20and%20ID%20ge%20179001%20and%20ID%20lt%20180001\n",
      "GET: https://ws.parlament.ch/odata.svc/Transcript?$filter=Language%20eq%20'FR'%20and%20ID%20ge%20180001%20and%20ID%20lt%20181001\n",
      "GET: https://ws.parlament.ch/odata.svc/Transcript?$filter=Language%20eq%20'FR'%20and%20ID%20ge%20181001%20and%20ID%20lt%20182001\n",
      "GET: https://ws.parlament.ch/odata.svc/Transcript?$filter=Language%20eq%20'FR'%20and%20ID%20ge%20182001%20and%20ID%20lt%20183001\n",
      "GET: https://ws.parlament.ch/odata.svc/Transcript?$filter=Language%20eq%20'FR'%20and%20ID%20ge%20183001%20and%20ID%20lt%20184001\n",
      "GET: https://ws.parlament.ch/odata.svc/Transcript?$filter=Language%20eq%20'FR'%20and%20ID%20ge%20184001%20and%20ID%20lt%20185001\n",
      "GET: https://ws.parlament.ch/odata.svc/Transcript?$filter=Language%20eq%20'FR'%20and%20ID%20ge%20185001%20and%20ID%20lt%20186001\n",
      "GET: https://ws.parlament.ch/odata.svc/Transcript?$filter=Language%20eq%20'FR'%20and%20ID%20ge%20186001%20and%20ID%20lt%20187001\n",
      "GET: https://ws.parlament.ch/odata.svc/Transcript?$filter=Language%20eq%20'FR'%20and%20ID%20ge%20187001%20and%20ID%20lt%20188001\n",
      "GET: https://ws.parlament.ch/odata.svc/Transcript?$filter=Language%20eq%20'FR'%20and%20ID%20ge%20188001%20and%20ID%20lt%20189001\n",
      "GET: https://ws.parlament.ch/odata.svc/Transcript?$filter=Language%20eq%20'FR'%20and%20ID%20ge%20189001%20and%20ID%20lt%20190001\n",
      "GET: https://ws.parlament.ch/odata.svc/Transcript?$filter=Language%20eq%20'FR'%20and%20ID%20ge%20190001%20and%20ID%20lt%20191001\n",
      "GET: https://ws.parlament.ch/odata.svc/Transcript?$filter=Language%20eq%20'FR'%20and%20ID%20ge%20191001%20and%20ID%20lt%20192001\n",
      "GET: https://ws.parlament.ch/odata.svc/Transcript?$filter=Language%20eq%20'FR'%20and%20ID%20ge%20192001%20and%20ID%20lt%20193001\n",
      "GET: https://ws.parlament.ch/odata.svc/Transcript?$filter=Language%20eq%20'FR'%20and%20ID%20ge%20193001%20and%20ID%20lt%20194001\n"
     ]
    },
    {
     "name": "stdout",
     "output_type": "stream",
     "text": [
      "GET: https://ws.parlament.ch/odata.svc/Transcript?$filter=Language%20eq%20'FR'%20and%20ID%20ge%20194001%20and%20ID%20lt%20195001\n",
      "GET: https://ws.parlament.ch/odata.svc/Transcript?$filter=Language%20eq%20'FR'%20and%20ID%20ge%20195001%20and%20ID%20lt%20196001\n",
      "GET: https://ws.parlament.ch/odata.svc/Transcript?$filter=Language%20eq%20'FR'%20and%20ID%20ge%20196001%20and%20ID%20lt%20197001\n",
      "GET: https://ws.parlament.ch/odata.svc/Transcript?$filter=Language%20eq%20'FR'%20and%20ID%20ge%20197001%20and%20ID%20lt%20198001\n",
      "GET: https://ws.parlament.ch/odata.svc/Transcript?$filter=Language%20eq%20'FR'%20and%20ID%20ge%20198001%20and%20ID%20lt%20199001\n",
      "GET: https://ws.parlament.ch/odata.svc/Transcript?$filter=Language%20eq%20'FR'%20and%20ID%20ge%20199001%20and%20ID%20lt%20200001\n",
      "GET: https://ws.parlament.ch/odata.svc/Transcript?$filter=Language%20eq%20'FR'%20and%20ID%20ge%20200001%20and%20ID%20lt%20201001\n",
      "GET: https://ws.parlament.ch/odata.svc/Transcript?$filter=Language%20eq%20'FR'%20and%20ID%20ge%20201001%20and%20ID%20lt%20202001\n",
      "GET: https://ws.parlament.ch/odata.svc/Transcript?$filter=Language%20eq%20'FR'%20and%20ID%20ge%20202001%20and%20ID%20lt%20203001\n",
      "GET: https://ws.parlament.ch/odata.svc/Transcript?$filter=Language%20eq%20'FR'%20and%20ID%20ge%20203001%20and%20ID%20lt%20204001\n",
      "GET: https://ws.parlament.ch/odata.svc/Transcript?$filter=Language%20eq%20'FR'%20and%20ID%20ge%20204001%20and%20ID%20lt%20205001\n",
      "GET: https://ws.parlament.ch/odata.svc/Transcript?$filter=Language%20eq%20'FR'%20and%20ID%20ge%20205001%20and%20ID%20lt%20206001\n",
      "GET: https://ws.parlament.ch/odata.svc/Transcript?$filter=Language%20eq%20'FR'%20and%20ID%20ge%20206001%20and%20ID%20lt%20207001\n",
      "GET: https://ws.parlament.ch/odata.svc/Transcript?$filter=Language%20eq%20'FR'%20and%20ID%20ge%20207001%20and%20ID%20lt%20208001\n",
      "GET: https://ws.parlament.ch/odata.svc/Transcript?$filter=Language%20eq%20'FR'%20and%20ID%20ge%20208001%20and%20ID%20lt%20209001\n",
      "GET: https://ws.parlament.ch/odata.svc/Transcript?$filter=Language%20eq%20'FR'%20and%20ID%20ge%20209001%20and%20ID%20lt%20210001\n",
      "GET: https://ws.parlament.ch/odata.svc/Transcript?$filter=Language%20eq%20'FR'%20and%20ID%20ge%20210001%20and%20ID%20lt%20211001\n",
      "GET: https://ws.parlament.ch/odata.svc/Transcript?$filter=Language%20eq%20'FR'%20and%20ID%20ge%20211001%20and%20ID%20lt%20212001\n",
      "GET: https://ws.parlament.ch/odata.svc/Transcript?$filter=Language%20eq%20'FR'%20and%20ID%20ge%20212001%20and%20ID%20lt%20213001\n",
      "GET: https://ws.parlament.ch/odata.svc/Transcript?$filter=Language%20eq%20'FR'%20and%20ID%20ge%20213001%20and%20ID%20lt%20214001\n",
      "GET: https://ws.parlament.ch/odata.svc/Transcript?$filter=Language%20eq%20'FR'%20and%20ID%20ge%20214001%20and%20ID%20lt%20215001\n",
      "GET: https://ws.parlament.ch/odata.svc/Transcript?$filter=Language%20eq%20'FR'%20and%20ID%20ge%20215001%20and%20ID%20lt%20216001\n",
      "GET: https://ws.parlament.ch/odata.svc/Transcript?$filter=Language%20eq%20'FR'%20and%20ID%20ge%20216001%20and%20ID%20lt%20217001\n",
      "GET: https://ws.parlament.ch/odata.svc/Transcript?$filter=Language%20eq%20'FR'%20and%20ID%20ge%20217001%20and%20ID%20lt%20218001\n",
      "GET: https://ws.parlament.ch/odata.svc/Transcript?$filter=Language%20eq%20'FR'%20and%20ID%20ge%20218001%20and%20ID%20lt%20219001\n",
      "GET: https://ws.parlament.ch/odata.svc/Transcript?$filter=Language%20eq%20'FR'%20and%20ID%20ge%20219001%20and%20ID%20lt%20220001\n",
      "GET: https://ws.parlament.ch/odata.svc/Transcript?$filter=Language%20eq%20'FR'%20and%20ID%20ge%20220001%20and%20ID%20lt%20221001\n",
      "GET: https://ws.parlament.ch/odata.svc/Transcript?$filter=Language%20eq%20'FR'%20and%20ID%20ge%20221001%20and%20ID%20lt%20222001\n",
      "GET: https://ws.parlament.ch/odata.svc/Transcript?$filter=Language%20eq%20'FR'%20and%20ID%20ge%20222001%20and%20ID%20lt%20223001\n",
      "GET: https://ws.parlament.ch/odata.svc/Transcript?$filter=Language%20eq%20'FR'%20and%20ID%20ge%20223001%20and%20ID%20lt%20224001\n",
      "GET: https://ws.parlament.ch/odata.svc/Transcript?$filter=Language%20eq%20'FR'%20and%20ID%20ge%20224001%20and%20ID%20lt%20225001\n",
      "GET: https://ws.parlament.ch/odata.svc/Transcript?$filter=Language%20eq%20'FR'%20and%20ID%20ge%20225001%20and%20ID%20lt%20226001\n",
      "GET: https://ws.parlament.ch/odata.svc/Transcript?$filter=Language%20eq%20'FR'%20and%20ID%20ge%20226001%20and%20ID%20lt%20227001\n",
      "GET: https://ws.parlament.ch/odata.svc/Transcript?$filter=Language%20eq%20'FR'%20and%20ID%20ge%20227001%20and%20ID%20lt%20228001\n",
      "GET: https://ws.parlament.ch/odata.svc/Transcript?$filter=Language%20eq%20'FR'%20and%20ID%20ge%20228001%20and%20ID%20lt%20229001\n",
      "GET: https://ws.parlament.ch/odata.svc/Transcript?$filter=Language%20eq%20'FR'%20and%20ID%20ge%20229001%20and%20ID%20lt%20230001\n",
      "GET: https://ws.parlament.ch/odata.svc/Transcript?$filter=Language%20eq%20'FR'%20and%20ID%20ge%20230001%20and%20ID%20lt%20231001\n",
      "GET: https://ws.parlament.ch/odata.svc/Transcript?$filter=Language%20eq%20'FR'%20and%20ID%20ge%20231001%20and%20ID%20lt%20232001\n",
      "GET: https://ws.parlament.ch/odata.svc/Transcript?$filter=Language%20eq%20'FR'%20and%20ID%20ge%20232001%20and%20ID%20lt%20233001\n",
      "GET: https://ws.parlament.ch/odata.svc/Transcript?$filter=Language%20eq%20'FR'%20and%20ID%20ge%20233001%20and%20ID%20lt%20234001\n",
      "GET: https://ws.parlament.ch/odata.svc/Transcript?$filter=Language%20eq%20'FR'%20and%20ID%20ge%20234001%20and%20ID%20lt%20235001\n",
      "GET: https://ws.parlament.ch/odata.svc/Transcript?$filter=Language%20eq%20'FR'%20and%20ID%20ge%20235001%20and%20ID%20lt%20236001\n",
      "GET: https://ws.parlament.ch/odata.svc/Transcript?$filter=Language%20eq%20'FR'%20and%20ID%20ge%20236001%20and%20ID%20lt%20237001\n",
      "GET: https://ws.parlament.ch/odata.svc/Transcript?$filter=Language%20eq%20'FR'%20and%20ID%20ge%20237001%20and%20ID%20lt%20238001\n",
      "GET: https://ws.parlament.ch/odata.svc/Transcript?$filter=Language%20eq%20'FR'%20and%20ID%20ge%20238001%20and%20ID%20lt%20239001\n",
      "GET: https://ws.parlament.ch/odata.svc/Transcript?$filter=Language%20eq%20'FR'%20and%20ID%20ge%20239001%20and%20ID%20lt%20240001\n",
      "GET: https://ws.parlament.ch/odata.svc/Transcript?$filter=Language%20eq%20'FR'%20and%20ID%20ge%20240001%20and%20ID%20lt%20241001\n",
      "GET: https://ws.parlament.ch/odata.svc/Transcript?$filter=Language%20eq%20'FR'%20and%20ID%20ge%20241001%20and%20ID%20lt%20242001\n",
      "GET: https://ws.parlament.ch/odata.svc/Transcript?$filter=Language%20eq%20'FR'%20and%20ID%20ge%20242001%20and%20ID%20lt%20243001\n",
      "GET: https://ws.parlament.ch/odata.svc/Transcript?$filter=Language%20eq%20'FR'%20and%20ID%20ge%20243001%20and%20ID%20lt%20244001\n",
      "GET: https://ws.parlament.ch/odata.svc/Transcript?$filter=Language%20eq%20'FR'%20and%20ID%20ge%20244001%20and%20ID%20lt%20245001\n",
      "GET: https://ws.parlament.ch/odata.svc/Transcript?$filter=Language%20eq%20'FR'%20and%20ID%20ge%20245001%20and%20ID%20lt%20246001\n",
      "GET: https://ws.parlament.ch/odata.svc/Transcript?$filter=Language%20eq%20'FR'%20and%20ID%20ge%20246001%20and%20ID%20lt%20247001\n",
      "GET: https://ws.parlament.ch/odata.svc/Transcript?$filter=Language%20eq%20'FR'%20and%20ID%20ge%20247001%20and%20ID%20lt%20248001\n",
      "GET: https://ws.parlament.ch/odata.svc/Transcript?$filter=Language%20eq%20'FR'%20and%20ID%20ge%20248001%20and%20ID%20lt%20249001\n",
      "GET: https://ws.parlament.ch/odata.svc/Transcript?$filter=Language%20eq%20'FR'%20and%20ID%20ge%20249001%20and%20ID%20lt%20250001\n",
      "GET: https://ws.parlament.ch/odata.svc/Transcript?$filter=Language%20eq%20'FR'%20and%20ID%20ge%20250001%20and%20ID%20lt%20251001\n",
      "GET: https://ws.parlament.ch/odata.svc/Transcript?$filter=Language%20eq%20'FR'%20and%20ID%20ge%20251001%20and%20ID%20lt%20252001\n",
      "GET: https://ws.parlament.ch/odata.svc/Transcript?$filter=Language%20eq%20'FR'%20and%20ID%20ge%20252001%20and%20ID%20lt%20253001\n",
      "GET: https://ws.parlament.ch/odata.svc/Transcript?$filter=Language%20eq%20'FR'%20and%20ID%20ge%20253001%20and%20ID%20lt%20254001\n",
      "GET: https://ws.parlament.ch/odata.svc/Transcript?$filter=Language%20eq%20'FR'%20and%20ID%20ge%20254001%20and%20ID%20lt%20255001\n",
      "GET: https://ws.parlament.ch/odata.svc/Transcript?$filter=Language%20eq%20'FR'%20and%20ID%20ge%20255001%20and%20ID%20lt%20256001\n",
      "GET: https://ws.parlament.ch/odata.svc/Transcript?$filter=Language%20eq%20'FR'%20and%20ID%20ge%20256001%20and%20ID%20lt%20257001\n",
      "GET: https://ws.parlament.ch/odata.svc/Transcript?$filter=Language%20eq%20'FR'%20and%20ID%20ge%20257001%20and%20ID%20lt%20258001\n"
     ]
    },
    {
     "name": "stdout",
     "output_type": "stream",
     "text": [
      "GET: https://ws.parlament.ch/odata.svc/Transcript?$filter=Language%20eq%20'FR'%20and%20ID%20ge%20258001%20and%20ID%20lt%20259001\n",
      "GET: https://ws.parlament.ch/odata.svc/Transcript?$filter=Language%20eq%20'FR'%20and%20ID%20ge%20259001%20and%20ID%20lt%20260001\n",
      "GET: https://ws.parlament.ch/odata.svc/Transcript?$filter=Language%20eq%20'FR'%20and%20ID%20ge%20260001%20and%20ID%20lt%20261001\n",
      "GET: https://ws.parlament.ch/odata.svc/Transcript?$filter=Language%20eq%20'FR'%20and%20ID%20ge%20261001%20and%20ID%20lt%20262001\n",
      "GET: https://ws.parlament.ch/odata.svc/Transcript?$filter=Language%20eq%20'FR'%20and%20ID%20ge%20262001%20and%20ID%20lt%20263001\n",
      "GET: https://ws.parlament.ch/odata.svc/Transcript?$filter=Language%20eq%20'FR'%20and%20ID%20ge%20263001%20and%20ID%20lt%20264001\n",
      "GET: https://ws.parlament.ch/odata.svc/Transcript?$filter=Language%20eq%20'FR'%20and%20ID%20ge%20264001%20and%20ID%20lt%20265001\n",
      "GET: https://ws.parlament.ch/odata.svc/Transcript?$filter=Language%20eq%20'FR'%20and%20ID%20ge%20265001%20and%20ID%20lt%20266001\n",
      "GET: https://ws.parlament.ch/odata.svc/Transcript?$filter=Language%20eq%20'FR'%20and%20ID%20ge%20266001%20and%20ID%20lt%20267001\n",
      "GET: https://ws.parlament.ch/odata.svc/Transcript?$filter=Language%20eq%20'FR'%20and%20ID%20ge%20267001%20and%20ID%20lt%20268001\n",
      "GET: https://ws.parlament.ch/odata.svc/Transcript?$filter=Language%20eq%20'FR'%20and%20ID%20ge%20268001%20and%20ID%20lt%20269001\n",
      "GET: https://ws.parlament.ch/odata.svc/Transcript?$filter=Language%20eq%20'FR'%20and%20ID%20ge%20269001%20and%20ID%20lt%20270001\n",
      "GET: https://ws.parlament.ch/odata.svc/Transcript?$filter=Language%20eq%20'FR'%20and%20ID%20ge%20270001%20and%20ID%20lt%20271001\n",
      "GET: https://ws.parlament.ch/odata.svc/Transcript?$filter=Language%20eq%20'FR'%20and%20ID%20ge%20271001%20and%20ID%20lt%20272001\n",
      "GET: https://ws.parlament.ch/odata.svc/Transcript?$filter=Language%20eq%20'FR'%20and%20ID%20ge%20272001%20and%20ID%20lt%20273001\n",
      "GET: https://ws.parlament.ch/odata.svc/Transcript?$filter=Language%20eq%20'FR'%20and%20ID%20ge%20273001%20and%20ID%20lt%20274001\n",
      "GET: https://ws.parlament.ch/odata.svc/Transcript?$filter=Language%20eq%20'FR'%20and%20ID%20ge%20274001%20and%20ID%20lt%20275001\n",
      "GET: https://ws.parlament.ch/odata.svc/Transcript?$filter=Language%20eq%20'FR'%20and%20ID%20ge%20275001%20and%20ID%20lt%20276001\n",
      "GET: https://ws.parlament.ch/odata.svc/Transcript?$filter=Language%20eq%20'FR'%20and%20ID%20ge%20276001%20and%20ID%20lt%20277001\n",
      "GET: https://ws.parlament.ch/odata.svc/Transcript?$filter=Language%20eq%20'FR'%20and%20ID%20ge%20277001%20and%20ID%20lt%20278001\n",
      "GET: https://ws.parlament.ch/odata.svc/Transcript?$filter=Language%20eq%20'FR'%20and%20ID%20ge%20278001%20and%20ID%20lt%20279001\n",
      "GET: https://ws.parlament.ch/odata.svc/Transcript?$filter=Language%20eq%20'FR'%20and%20ID%20ge%20279001%20and%20ID%20lt%20280001\n",
      "GET: https://ws.parlament.ch/odata.svc/Transcript?$filter=Language%20eq%20'FR'%20and%20ID%20ge%20280001%20and%20ID%20lt%20281001\n",
      "GET: https://ws.parlament.ch/odata.svc/Transcript?$filter=Language%20eq%20'FR'%20and%20ID%20ge%20281001%20and%20ID%20lt%20282001\n",
      "GET: https://ws.parlament.ch/odata.svc/Transcript?$filter=Language%20eq%20'FR'%20and%20ID%20ge%20282001%20and%20ID%20lt%20283001\n",
      "GET: https://ws.parlament.ch/odata.svc/Transcript?$filter=Language%20eq%20'FR'%20and%20ID%20ge%20283001%20and%20ID%20lt%20284001\n",
      "GET: https://ws.parlament.ch/odata.svc/Transcript?$filter=Language%20eq%20'FR'%20and%20ID%20ge%20284001%20and%20ID%20lt%20285001\n",
      "GET: https://ws.parlament.ch/odata.svc/Transcript?$filter=Language%20eq%20'FR'%20and%20ID%20ge%20285001%20and%20ID%20lt%20286001\n",
      "GET: https://ws.parlament.ch/odata.svc/Transcript?$filter=Language%20eq%20'FR'%20and%20ID%20ge%20286001%20and%20ID%20lt%20287001\n",
      "GET: https://ws.parlament.ch/odata.svc/Transcript?$filter=Language%20eq%20'FR'%20and%20ID%20ge%20287001%20and%20ID%20lt%20288001\n",
      "GET: https://ws.parlament.ch/odata.svc/Transcript?$filter=Language%20eq%20'FR'%20and%20ID%20ge%20288001%20and%20ID%20lt%20289001\n",
      "GET: https://ws.parlament.ch/odata.svc/Transcript?$filter=Language%20eq%20'FR'%20and%20ID%20ge%20289001%20and%20ID%20lt%20290001\n",
      "GET: https://ws.parlament.ch/odata.svc/Transcript?$filter=Language%20eq%20'FR'%20and%20ID%20ge%20290001%20and%20ID%20lt%20291001\n",
      "GET: https://ws.parlament.ch/odata.svc/Transcript?$filter=Language%20eq%20'FR'%20and%20ID%20ge%20291001%20and%20ID%20lt%20292001\n",
      "GET: https://ws.parlament.ch/odata.svc/Transcript?$filter=Language%20eq%20'FR'%20and%20ID%20ge%20292001%20and%20ID%20lt%20293001\n",
      "GET: https://ws.parlament.ch/odata.svc/Transcript?$filter=Language%20eq%20'FR'%20and%20ID%20ge%20293001%20and%20ID%20lt%20294001\n",
      "GET: https://ws.parlament.ch/odata.svc/Transcript?$filter=Language%20eq%20'FR'%20and%20ID%20ge%20294001%20and%20ID%20lt%20295001\n",
      "GET: https://ws.parlament.ch/odata.svc/Transcript?$filter=Language%20eq%20'FR'%20and%20ID%20ge%20295001%20and%20ID%20lt%20296001\n",
      "GET: https://ws.parlament.ch/odata.svc/Transcript?$filter=Language%20eq%20'FR'%20and%20ID%20ge%20296001%20and%20ID%20lt%20297001\n",
      "GET: https://ws.parlament.ch/odata.svc/Transcript?$filter=Language%20eq%20'FR'%20and%20ID%20ge%20297001%20and%20ID%20lt%20298001\n",
      "GET: https://ws.parlament.ch/odata.svc/Transcript?$filter=Language%20eq%20'FR'%20and%20ID%20ge%20298001%20and%20ID%20lt%20299001\n",
      "GET: https://ws.parlament.ch/odata.svc/Transcript?$filter=Language%20eq%20'FR'%20and%20ID%20ge%20299001%20and%20ID%20lt%20300001\n",
      "GET: https://ws.parlament.ch/odata.svc/Transcript?$filter=Language%20eq%20'FR'%20and%20ID%20ge%20300001%20and%20ID%20lt%20301001\n",
      "GET: https://ws.parlament.ch/odata.svc/Transcript?$filter=Language%20eq%20'FR'%20and%20ID%20ge%20301001%20and%20ID%20lt%20302001\n",
      "Loader timed out after  301  iterations. Data frame IDs are greater than  301001\n",
      "[ERROR] in scraping table Transcript expected size of 291240 but is 281067\n"
     ]
    }
   ],
   "source": [
    "# try to scrap transcript... will be hard -_-\n",
    "# server time_out with skip > 30'000 --> Scraper needs to loop on ID's instead of skipping table\n",
    "# SLOW (approx. 5 min)\n",
    "scrap = Scraper(time_out=300) # increase time_out\n",
    "df_transcript = scrap.get('Transcript')"
   ]
  },
  {
   "cell_type": "code",
   "execution_count": 8,
   "metadata": {},
   "outputs": [
    {
     "data": {
      "text/plain": [
       "291240"
      ]
     },
     "execution_count": 8,
     "metadata": {},
     "output_type": "execute_result"
    }
   ],
   "source": [
    "df_transcript_count = scrap.count('Transcript')\n",
    "df_transcript_count"
   ]
  },
  {
   "cell_type": "code",
   "execution_count": null,
   "metadata": {},
   "outputs": [],
   "source": [
    "df_votes = scrap.get('Votes')"
   ]
  }
 ],
 "metadata": {
  "anaconda-cloud": {},
  "kernelspec": {
   "display_name": "Python 3 (ipykernel)",
   "language": "python",
   "name": "python3"
  },
  "language_info": {
   "codemirror_mode": {
    "name": "ipython",
    "version": 3
   },
   "file_extension": ".py",
   "mimetype": "text/x-python",
   "name": "python",
   "nbconvert_exporter": "python",
   "pygments_lexer": "ipython3",
   "version": "3.11.1"
  }
 },
 "nbformat": 4,
 "nbformat_minor": 1
}
