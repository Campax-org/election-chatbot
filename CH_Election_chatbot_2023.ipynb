{
  "nbformat": 4,
  "nbformat_minor": 0,
  "metadata": {
    "colab": {
      "provenance": [],
      "include_colab_link": true
    },
    "kernelspec": {
      "name": "python3",
      "display_name": "Python 3"
    },
    "language_info": {
      "name": "python"
    }
  },
  "cells": [
    {
      "cell_type": "markdown",
      "metadata": {
        "id": "view-in-github",
        "colab_type": "text"
      },
      "source": [
        "<a href=\"https://colab.research.google.com/github/Campax-org/election-chatbot/blob/main/CH_Election_chatbot_2023.ipynb\" target=\"_parent\"><img src=\"https://colab.research.google.com/assets/colab-badge.svg\" alt=\"Open In Colab\"/></a>"
      ]
    },
    {
      "cell_type": "markdown",
      "source": [
        "# Election chatbot\n",
        "\n",
        "This is a data science notebook for collecting and analysing political debates, developed by Campax for the 2023 election year in Switzerland. Based on this we would like to create a chatbot, accessible via different popular messaging.\n",
        "\n",
        "More details are in [this document](https://docs.google.com/document/d/1D9482ILL8ORyMTCPjMOUsm-EaG9Xid85EfRNO1uulJc/edit#)."
      ],
      "metadata": {
        "id": "oXzaxE_RMnvU"
      }
    },
    {
      "cell_type": "code",
      "execution_count": null,
      "metadata": {
        "id": "S4Dw1PjwMW1I"
      },
      "outputs": [],
      "source": [
        "import requests\n",
        "from pandas import Series, DataFrame"
      ]
    }
  ]
}